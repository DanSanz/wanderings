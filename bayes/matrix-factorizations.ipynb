{
 "cells": [
  {
   "cell_type": "markdown",
   "metadata": {},
   "source": [
    "# Matrix Factorizations"
   ]
  },
  {
   "cell_type": "code",
   "execution_count": 1,
   "metadata": {},
   "outputs": [],
   "source": [
    "import numpy as np\n",
    "import pandas as pd\n",
    "import spacy\n",
    "import scipy.sparse\n",
    "from sklearn.feature_extraction.text import TfidfVectorizer\n",
    "from sklearn.decomposition import NMF\n",
    "import pymc3 as pm\n",
    "import theano\n",
    "import theano.tensor as tt"
   ]
  },
  {
   "cell_type": "code",
   "execution_count": 2,
   "metadata": {},
   "outputs": [],
   "source": [
    "def mask(token):\n",
    "    # Helper function to mask out non-tokens\n",
    "    if (not token.is_ascii\n",
    "            or token.is_stop\n",
    "            or token.like_num\n",
    "            or token.pos_ in ['X', 'SYM']):\n",
    "        return False\n",
    "    return True\n",
    "\n",
    "\n",
    "def tokenize(document):\n",
    "    # Tokenize by lemmatizing\n",
    "    doc = nlp(document)\n",
    "    return [token.lemma_ for token in doc if mask(token)]"
   ]
  },
  {
   "cell_type": "code",
   "execution_count": 3,
   "metadata": {},
   "outputs": [],
   "source": [
    "# Disable tagger, parser and named-entity recognition\n",
    "nlp = spacy.load('en', disable=['tagger', 'parser', 'ner'])\n",
    "\n",
    "# Read data\n",
    "DATA_FILE = 'NeutralPolitics.csv'\n",
    "data = pd.read_csv(DATA_FILE).squeeze()"
   ]
  },
  {
   "cell_type": "code",
   "execution_count": 4,
   "metadata": {
    "scrolled": true
   },
   "outputs": [
    {
     "data": {
      "text/plain": [
       "0     what points to no collusion which of these cl...\n",
       "1    the unhrc replaced the un commission on human ...\n",
       "2    when they replaced the terrible commission on ...\n",
       "3    the flores decision flores v reno and subseque...\n",
       "4    the protestors in question are being led bycom...\n",
       "Name: text, dtype: object"
      ]
     },
     "execution_count": 4,
     "metadata": {},
     "output_type": "execute_result"
    }
   ],
   "source": [
    "data.head()"
   ]
  },
  {
   "cell_type": "code",
   "execution_count": 5,
   "metadata": {},
   "outputs": [],
   "source": [
    "# Vectorize data using tf-idfs\n",
    "vectorizer = TfidfVectorizer(strip_accents='unicode',\n",
    "                             tokenizer=tokenize,\n",
    "                             max_df=0.90,\n",
    "                             min_df=0.001,\n",
    "                             norm='l2')\n",
    "\n",
    "tfidf = vectorizer.fit_transform(data)\n",
    "feature_names = vectorizer.get_feature_names()"
   ]
  },
  {
   "cell_type": "markdown",
   "metadata": {},
   "source": [
    "## NMF (Non-Negative Matrix Factorization)\n",
    "\n",
    "Some people in the collaborative filtering space refer to this method as SVD, despite it having very little to do with SVD."
   ]
  },
  {
   "cell_type": "code",
   "execution_count": 6,
   "metadata": {},
   "outputs": [],
   "source": [
    "# Factorize with NMF.\n",
    "nmf = NMF(n_components=20,\n",
    "          random_state=1618,\n",
    "          alpha=0.2)  # L2 regularization\n",
    "\n",
    "W = nmf.fit_transform(tfidf)\n",
    "H = nmf.components_\n",
    "err = nmf.reconstruction_err_"
   ]
  },
  {
   "cell_type": "code",
   "execution_count": null,
   "metadata": {},
   "outputs": [],
   "source": [
    "# Print clusters and exemplars.\n",
    "for topic_idx, [scores, topic] in enumerate(zip(np.transpose(W), H)):\n",
    "    print('Cluster #{}:'.format(topic_idx))\n",
    "    print('Cluster importance: {}'.format(\n",
    "        float((np.argmax(W, axis=1) == topic_idx).sum()) / W.shape[0]))\n",
    "\n",
    "    for token, importance in zip(\n",
    "            [feature_names[i] for i in np.argsort(topic)[:-10 - 1:-1]],\n",
    "            np.sort(topic)[:-15 - 1:-1]):\n",
    "        print('{}: {:2f}'.format(token, importance))\n",
    "\n",
    "    print('')\n",
    "\n",
    "    for exemplar_idx in np.argsort(scores)[-5:]:\n",
    "        print(exemplar_idx)\n",
    "        print(data[exemplar_idx])\n",
    "        print('')\n",
    "\n",
    "    print('----------')"
   ]
  },
  {
   "cell_type": "markdown",
   "metadata": {},
   "source": [
    "## PMF (Probabilistic Matrix Factorization)"
   ]
  },
  {
   "cell_type": "code",
   "execution_count": 7,
   "metadata": {},
   "outputs": [],
   "source": [
    "def sparse_std(tfidf, axis=None):\n",
    "    \"\"\" Standard deviation of scipy.sparse matrix, via [E(X^2) - E(X)^2]^(1/2) \"\"\"\n",
    "    return np.sqrt(np.mean(tfidf.power(2), axis=axis) - np.square(np.mean(tfidf, axis=axis)))"
   ]
  },
  {
   "cell_type": "code",
   "execution_count": 8,
   "metadata": {},
   "outputs": [],
   "source": [
    "rows, columns, entries = scipy.sparse.find(tfidf)\n",
    "\n",
    "n, m = tfidf.shape\n",
    "dim = 20\n",
    "\n",
    "sigma = entries.std()\n",
    "sigma_u = sparse_std(tfidf, axis=1).mean()\n",
    "sigma_v = sparse_std(tfidf, axis=0).mean()"
   ]
  },
  {
   "cell_type": "code",
   "execution_count": 23,
   "metadata": {},
   "outputs": [
    {
     "data": {
      "text/plain": [
       "1.0"
      ]
     },
     "execution_count": 23,
     "metadata": {},
     "output_type": "execute_result"
    }
   ],
   "source": [
    "entries.max()"
   ]
  },
  {
   "cell_type": "code",
   "execution_count": 15,
   "metadata": {},
   "outputs": [
    {
     "data": {
      "text/plain": [
       "0.15254229531386043"
      ]
     },
     "execution_count": 15,
     "metadata": {},
     "output_type": "execute_result"
    }
   ],
   "source": [
    "sigma"
   ]
  },
  {
   "cell_type": "code",
   "execution_count": 16,
   "metadata": {},
   "outputs": [
    {
     "data": {
      "text/plain": [
       "0.020264763601418535"
      ]
     },
     "execution_count": 16,
     "metadata": {},
     "output_type": "execute_result"
    }
   ],
   "source": [
    "sigma_u"
   ]
  },
  {
   "cell_type": "code",
   "execution_count": 18,
   "metadata": {},
   "outputs": [
    {
     "data": {
      "text/plain": [
       "0.014763014069451984"
      ]
     },
     "execution_count": 18,
     "metadata": {},
     "output_type": "execute_result"
    }
   ],
   "source": [
    "sigma_v"
   ]
  },
  {
   "cell_type": "code",
   "execution_count": null,
   "metadata": {},
   "outputs": [],
   "source": []
  },
  {
   "cell_type": "code",
   "execution_count": 9,
   "metadata": {},
   "outputs": [],
   "source": [
    "'''\n",
    "# Naive implementation, will not work.\n",
    "with pm.Model() as pmf:\n",
    "    U = pm.Normal('U', mu=0, sd=sigma_u, shape=[n, dim])\n",
    "    V = pm.Normal('V', mu=0, sd=sigma_v, shape=[m, dim])\n",
    "    R = pm.Normal('R', mu=tt.dot(U, V.T), sd=sigma, shape=[n, m], observed=tfidf)\n",
    "\n",
    "    map_estimate = pm.find_MAP()\n",
    "''';"
   ]
  },
  {
   "cell_type": "code",
   "execution_count": 14,
   "metadata": {},
   "outputs": [
    {
     "name": "stderr",
     "output_type": "stream",
     "text": [
      "logp = 5.5661e+05, ||grad|| = 0: 100%|██████████| 2/2 [00:00<00:00,  9.50it/s]   \n"
     ]
    }
   ],
   "source": [
    "# This doesn't seem to work either...?\n",
    "with pm.Model() as pmf:\n",
    "    U = pm.Normal('U', mu=0, sd=sigma_u, shape=[n, dim])\n",
    "    V = pm.Normal('V', mu=0, sd=sigma_v, shape=[m, dim])\n",
    "    R_nonzero = pm.Normal('R_nonzero',\n",
    "                          mu=tt.sum(np.multiply(U[rows, :], V[columns, :]), axis=1),\n",
    "                          sd=sigma,\n",
    "                          observed=entries)\n",
    "    \n",
    "    map_estimate = pm.find_MAP()"
   ]
  },
  {
   "cell_type": "code",
   "execution_count": null,
   "metadata": {},
   "outputs": [],
   "source": []
  },
  {
   "cell_type": "markdown",
   "metadata": {},
   "source": [
    "## Bayesian Probabilistic Matrix Factorization (BPMF)"
   ]
  },
  {
   "cell_type": "code",
   "execution_count": null,
   "metadata": {},
   "outputs": [],
   "source": []
  },
  {
   "cell_type": "markdown",
   "metadata": {},
   "source": [
    "## References\n",
    "\n",
    "[1] https://papers.nips.cc/paper/3208-probabilistic-matrix-factorization.pdf\n",
    "\n",
    "[2] https://www.cs.toronto.edu/~amnih/papers/bpmf.pdf"
   ]
  }
 ],
 "metadata": {
  "kernelspec": {
   "display_name": "Python 3",
   "language": "python",
   "name": "python3"
  },
  "language_info": {
   "codemirror_mode": {
    "name": "ipython",
    "version": 3
   },
   "file_extension": ".py",
   "mimetype": "text/x-python",
   "name": "python",
   "nbconvert_exporter": "python",
   "pygments_lexer": "ipython3",
   "version": "3.6.5"
  }
 },
 "nbformat": 4,
 "nbformat_minor": 2
}
