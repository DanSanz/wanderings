{
 "cells": [
  {
   "cell_type": "markdown",
   "metadata": {},
   "source": [
    "# Adjusted Factor-Based Performance Attribution"
   ]
  },
  {
   "cell_type": "markdown",
   "metadata": {},
   "source": [
    "[Link to article here](http://bfjlaward.com/pdf/26059/67-78_Stubbs_colour_JPM_0517.pdf)\n",
    "\n",
    "Suppose an algorithm is trading, generating a daily profit or loss (PnL). *How much of the PnL came from where, and what can we do to mitigate this risk?*\n",
    "\n",
    "This question is the motivation of performance attribution.\n",
    "\n",
    "Just as an algorithm can use a factor model to make its trading decisions, so too can a factor model be used to analyze an algorithm's trading decisions. In a sense, performance attribution can be thought of as solving the inverse problem of designing an algorithm."
   ]
  },
  {
   "cell_type": "markdown",
   "metadata": {},
   "source": [
    "First, the authors explain why the factors in a risk model matter. Consider the strategy:\n",
    "\n",
    "*maximize:* exposure to a growth factor\n",
    "\n",
    "*subject to:*\n",
    "- long only\n",
    "- fully invested\n",
    "- active risk constraint of ±3% (overall strategy)\n",
    "- sector bounds of ±4%\n",
    "- asset bounds of ±3%\n",
    "\n",
    "We analyze the returns using two risk models:\n",
    "\n",
    "- RM1 has 10 sector factors and 4 style factors (market sensititvity, momentum, size and value)\n",
    "- RM2 is the same as RM1, but **with** the growth factor"
   ]
  },
  {
   "cell_type": "markdown",
   "metadata": {},
   "source": [
    "<style type=\"text/css\">\n",
    ".tg  {border-collapse:collapse;border-spacing:0;}\n",
    ".tg td{font-family:Arial, sans-serif;font-size:14px;padding:10px 5px;border-style:solid;border-width:1px;overflow:hidden;word-break:normal;}\n",
    ".tg th{font-family:Arial, sans-serif;font-size:14px;font-weight:normal;padding:10px 5px;border-style:solid;border-width:1px;overflow:hidden;word-break:normal;}\n",
    ".tg .tg-baqh{text-align:center;vertical-align:top}\n",
    ".tg .tg-lqy6{text-align:right;vertical-align:top}\n",
    ".tg .tg-yw4l{vertical-align:top}\n",
    "</style>\n",
    "<table class=\"tg\">\n",
    "  <tr>\n",
    "    <th class=\"tg-baqh\">Risk Model</th>\n",
    "    <th class=\"tg-lqy6\">RM1</th>\n",
    "    <th class=\"tg-lqy6\">RM2</th>\n",
    "  </tr>\n",
    "  <tr>\n",
    "    <td class=\"tg-yw4l\">Returns</td>\n",
    "    <td class=\"tg-baqh\" colspan=\"2\">1.47%</td>\n",
    "  </tr>\n",
    "  <tr>\n",
    "    <td class=\"tg-yw4l\">Factor Contribution (FC)</td>\n",
    "    <td class=\"tg-lqy6\">-0.18%</td>\n",
    "    <td class=\"tg-lqy6\">2.35%</td>\n",
    "  </tr>\n",
    "  <tr>\n",
    "    <td class=\"tg-yw4l\">Specific Contribution (SC)</td>\n",
    "    <td class=\"tg-lqy6\">1.65%</td>\n",
    "    <td class=\"tg-lqy6\">-0.88%</td>\n",
    "  </tr>\n",
    "  <tr>\n",
    "    <td class=\"tg-yw4l\">FC-SC Correlation</td>\n",
    "    <td class=\"tg-lqy6\">-0.09</td>\n",
    "    <td class=\"tg-lqy6\">-0.32</td>\n",
    "  </tr>\n",
    "</table>"
   ]
  },
  {
   "cell_type": "markdown",
   "metadata": {},
   "source": [
    "As expected, RM2 attributes much more of the returns to the factors. Even worse, RM2 has a significant correlation between the daily factor contribution and the daily specific contribution."
   ]
  },
  {
   "cell_type": "markdown",
   "metadata": {},
   "source": [
    "## Why is correlation between factor and specific contribution bad?\n",
    "\n",
    "Consider the following portfolio returns:\n",
    "\n",
    "$$ r = f + (-0.5f) $$\n",
    "\n",
    "where:\n",
    "\n",
    "- $r$ are the portfolio's returns\n",
    "- $f$ is the factor contribution\n",
    "- $-0.5f$ is the specific contribution\n",
    "\n",
    "In this case, we have an FC-SC correlation of 1: this means that some (in this case, all) of the specific contribution can be explained by the factor $f$. This is undesireable: we want the specific contribution to be completely idiosyncratic to $f$.\n",
    "\n",
    "One assumption of linear regression is that $E(u_i | H) = 0$: i.e. the expected value of each position in the unexplained portfolio is 0. Violation of this assumption leads to biased estimates of $\\lambda$. Now, if the unexplained portfolio covaries with the factor-mimicking portfolios, $cov(u, H) \\neq 0 \\implies E(u_i | H) \\neq 0$"
   ]
  },
  {
   "cell_type": "markdown",
   "metadata": {},
   "source": [
    "<div class=\"alert alert-success\">\n",
    "**TLDR:** reducing the correlation between factor contributions and specific contributions drives the specific contribution down, thus leading to more accurate inferences from the performance attribution.\n",
    "</div>"
   ]
  },
  {
   "cell_type": "markdown",
   "metadata": {},
   "source": [
    "## Mathematics of Factor Attribution\n",
    "\n",
    "There are 2 ways to think of factor attribution."
   ]
  },
  {
   "cell_type": "markdown",
   "metadata": {},
   "source": [
    "### Way 1 (less important):\n",
    "\n",
    "$$ r = Xf + \\epsilon $$\n",
    "\n",
    "where:\n",
    "\n",
    "- $n$ is the number of assets\n",
    "- $k$ is the number of factors\n",
    "- $X$ is an $n \\times k$ factor exposure matrix\n",
    "- $f$ is an $n \\times 1$ vector of factor returns\n",
    "- $\\epsilon$ is an $n \\times 1$ vector of stock-specific residual returns\n",
    "\n",
    "In a cross-sectional returns model, $X$ is given, and $f$ is estimated using WLS regression.\n",
    "\n",
    "If this is the case, then it can be shown that\n",
    "\n",
    "$$ f = H^t r$$\n",
    "\n",
    "where:\n",
    "\n",
    "- $H = WX(X^tWX)^{-1}$ is an $n \\times k$ matrix whose columns are pure factor-mimicking portfolios\n",
    "\n",
    "Knowing $f$ and our portfolio $h$ (an $n \\times 1$ vector of our holdings), we thus have our PnL attribution:\n",
    "\n",
    "$$ h^t r = h^t X f + h^t \\epsilon $$"
   ]
  },
  {
   "cell_type": "markdown",
   "metadata": {},
   "source": [
    "### Way 2 (more important):\n",
    "\n",
    "$$ h = \\tilde{H}\\lambda + u$$\n",
    "\n",
    "where:\n",
    "\n",
    "- $\\tilde{H}$ is now **constructed by us** (I used a tilde to reflect that)\n",
    "- $\\lambda$ is a $k \\times 1$ vector of the portfolio's factor exposures\n",
    "- $u$ is a $k \\times 1$ vector of factor-specific residual exposures\n",
    "\n",
    "> \"The advantage of this second way of thinking about attribution is that we can see that exposures are not exact:\n",
    "> They are least-squares estimates of a linear regression. And as with all regressions, the estimates contain\n",
    "> errors and may be biased if all underlying model assumptions are not satisfied.\"\n",
    "\n",
    "Clearly, if $\\lambda = X^th$, this way is no different from way 1.\n",
    "\n",
    "$$ h = \\tilde{H}\\lambda + u $$\n",
    "\n",
    "$$ \\implies h = \\tilde{H} X^t h + u $$\n",
    "\n",
    "$$ \\implies h^t = h^t X \\tilde{H}^t  + u^t $$\n",
    "\n",
    "$$ \\implies h^t r = h^t X \\tilde{H}^t r  + u^t r $$\n",
    "\n",
    "$$ \\implies h^t r = h^t X f  + u^t r $$"
   ]
  },
  {
   "cell_type": "markdown",
   "metadata": {},
   "source": [
    "#### So, when does $\\lambda = X^th$?\n",
    "\n",
    "Basically, never in real life.\n",
    "\n",
    "The authors outline some instances in which it is: if you cleverly construct $\\tilde{H}$'s factor-mimicking portfolios using weights that cancel out some bad stuff that we did before (I don't really get this bit)."
   ]
  },
  {
   "cell_type": "markdown",
   "metadata": {},
   "source": [
    "## So, how do we make $cov(u, H) = 0$?\n",
    "\n",
    "Again, there are two ways.\n",
    "\n",
    "We consider the residual portfolio $u$ as a linear combination of the factor-mimicking portfolios in $H$. Let $H = [H_1 \\: H_2 \\: ... \\: H_k]$."
   ]
  },
  {
   "cell_type": "markdown",
   "metadata": {},
   "source": [
    "### Way 1: Absolute adjustment\n",
    "\n",
    "First, estimate the $\\beta$s using a time-series regression\n",
    "\n",
    "- Instead of using the first equation and running a cross-sectional, multivariate regression, use the third equation to run a time-series regression.\n",
    "    \n",
    "- A cross-sectional regression won't work because it introduces some of the aforementioned biases. Further, a time series regression has the benefit of being a single regression through time, as opposed to modifying the factor exposures differently in each period.\n",
    "\n",
    "\n",
    "$$ u = \\sum_{j}{\\beta_j \\tilde{H_j}} + \\tilde{u} $$\n",
    "\n",
    "$$\\implies r^t u = \\sum_{j}{\\beta_j \\: r^t \\tilde{H_j}} + r^t \\tilde{u} $$\n",
    "\n",
    "$$\\implies r^t u = \\sum_{j}{\\beta_j \\: \\tilde{f_j}} + r^t \\tilde{u} $$\n",
    "\n",
    "Then,\n",
    "\n",
    "$$ h = \\tilde{H}\\lambda + u$$\n",
    "\n",
    "$$ \\implies r^t h = r^t \\tilde{H} \\lambda + r^t u $$\n",
    "\n",
    "$$ \\implies r^t h = \\sum_{j}{r^t \\tilde{H_j} X_j^t h}  + \\sum_{j}{\\beta_j \\: r^t H_j} + r^t \\tilde{u} $$\n",
    "\n",
    "$$ \\implies r^t h = \\sum_{j}{f_j (X_j^t h + \\beta_j)} + r^t \\tilde{u}$$"
   ]
  },
  {
   "cell_type": "markdown",
   "metadata": {},
   "source": [
    "### Way 2: Relative adjustment\n",
    "\n",
    "The authors find that in practice, exposures are typically off by a relative amount, instead of an absolute amount. Therefore, they propose an alternative to the above equation:\n",
    "\n",
    "$$ r^t h = \\sum_{j}{f_j X_j^t h (1 + \\beta_j)} + r^t \\tilde{u}$$\n",
    "\n",
    "where the $\\beta$s are estimated using the following equation:\n",
    "\n",
    "$$ r_t^t u_t = \\sum_{j}{f_{tj} X_{tj}^t h_t \\beta_j} + r_t^t \\tilde{u_t} $$\n",
    "\n",
    "> A relative adjustment can also be more appropriate if factor exposures are changing through time. For these reasons, we prefer the relative adjustment to the absolute adjustment and use it in all computational results."
   ]
  },
  {
   "cell_type": "markdown",
   "metadata": {},
   "source": [
    "<div class=\"alert alert-warning\">\n",
    "Beware of overfitting! The problem as stated is that \"some of the specific contribution is explained by the factor\". Be careful that we do not explain the **noise** in the specific contribution with the factor!\n",
    "</div>"
   ]
  },
  {
   "cell_type": "markdown",
   "metadata": {},
   "source": [
    "Relative adjustments help to overcome this problem...\n",
    "\n",
    "> Because we are making relative adjustments to the exposures, the adjustment procedure will not suddenly allow a factor to explain a large portion of returns when the unadjusted factor exposure is near zero. If the exposure was near zero prior to adjustment, it will remain near zero after the adjustment. In this sense, the proposed adjusted attribution methodology behaves like a Bayesian method with the standard exposures as the prior.\n",
    "\n",
    "But more importantly, a robust method is needed to estimate the $\\beta$s. The authors propose the following scheme:\n",
    "\n",
    "> We use a heuristic variable selection scheme to select the independent variables (factor contributions) of Equation 10 based on their statistical significance, as measured by their $p$-values. We use an iterative regression scheme that starts with all variables present. After each iteration, we remove the variable with the greatest p-value if it is greater than the specified tolerance 0.02. If none of the $p$-values exceed the tolerance, we stop the iterative procedure of removing factors. Thereafter, we employ a reentry procedure in which we consider reentering rejected variables into the regression one at a time. A variable can reenter the regression only if its entry does not increase the $p$-value of any variable (including itself) above the tolerance. After the reentry trials, we run a final regression with the selected variables to compute the final estimate of $\\beta$.\n",
    "\n",
    "This sounds to me like it is very susceptible to overfitting."
   ]
  },
  {
   "cell_type": "markdown",
   "metadata": {},
   "source": [
    "Last remark:\n",
    "\n",
    "> In our experience, the classical bias/variance trade-off seems to exist in standard attribution results in which variance is the volatility of the unexplained portfolio, and bias is the over- or underestimation of factor contributions. "
   ]
  },
  {
   "cell_type": "code",
   "execution_count": null,
   "metadata": {
    "collapsed": true
   },
   "outputs": [],
   "source": []
  }
 ],
 "metadata": {
  "kernelspec": {
   "display_name": "Python 3",
   "language": "python",
   "name": "python3"
  },
  "language_info": {
   "codemirror_mode": {
    "name": "ipython",
    "version": 3
   },
   "file_extension": ".py",
   "mimetype": "text/x-python",
   "name": "python",
   "nbconvert_exporter": "python",
   "pygments_lexer": "ipython3",
   "version": "3.6.1"
  }
 },
 "nbformat": 4,
 "nbformat_minor": 2
}
